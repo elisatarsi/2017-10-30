{
 "cells": [
  {
   "cell_type": "markdown",
   "metadata": {},
   "source": [
    "WORKSHOP 2 \n",
    "==================\n",
    "### Libreria BILLY/OXBERG"
   ]
  },
  {
   "cell_type": "code",
   "execution_count": null,
   "metadata": {
    "collapsed": true
   },
   "outputs": [],
   "source": []
  },
  {
   "cell_type": "code",
   "execution_count": 1,
   "metadata": {},
   "outputs": [
    {
     "name": "stdout",
     "output_type": "stream",
     "text": [
      "Evaluating fenvs.py..\n",
      "...fenvs.py imported in 0.020418 seconds\n"
     ]
    }
   ],
   "source": [
    "from pyplasm import*\n",
    "from larlib import*\n",
    "\n",
    "base=CUBOID([0.76,0.26,0.07])\n",
    "parete_laterale=T([1,2])([-0.02,-0.02])(CUBOID([0.02,0.28,2.37])) #creo i ripiani con la funzione CUBOID\n",
    "pareti=STRUCT(NN(2)([parete_laterale,T(1)(0.78)]))\n",
    "scaffale=T([2,3])([-0.02,0.07])(CUBOID([0.76,0.28,0.02]))\n",
    "ripiani=STRUCT(NN(8)([scaffale,T(3)(0.3257)]))\n",
    "parete_dietro=T([1,2,3])([-0.02,0.26,0.07])(CUBOID([0.8,0.02,2.3]))\n",
    "libreria1=STRUCT([base,pareti,ripiani,parete_dietro])\n",
    "\n",
    "base_anta=T([1,2,3])([0.03,-0.04,0.07])(CUBOID([0.3,0.02,0.05]))\n",
    "anta_orizzontale=STRUCT(NN(3)([base_anta,T(3)(0.9571)]))\n",
    "verticale_anta=T([1,2,3])([-0.02,-0.04,0.07])(CUBOID([0.05,0.02,1.964]))\n",
    "anta_altezza=STRUCT(NN(2)([verticale_anta,T(1)(0.35)]))\n",
    "anta=STRUCT([anta_orizzontale,anta_altezza])\n",
    "ante=STRUCT(NN(2)([anta,T(1)(0.4)]))\n",
    "pomello1=R([3,2])(PI/2)(CYLINDER([0.0075,0.02])(30))\n",
    "pomello=T([1,2,3])([0.36,-0.06,1.055])(pomello1)\n",
    "pomelli=STRUCT(NN(2)([pomello, T(1)(0.04)]))\n",
    "ante_complete=STRUCT([ante,COLOR([0.56,0.44,0.30])(pomelli)])\n",
    "\n",
    "base_antapiccola=T([1,2,3])([0.03,-0.04,2.04])(CUBOID([0.3,0.02,0.05]))\n",
    "verticali_antapiccola=T([1,2,3])([-0.02,-0.04,2.04])(CUBOID([0.05,0.02,0.33]))\n",
    "orizzontali_antapiccola=STRUCT(NN(2)([base_antapiccola,T(3)(0.28)]))\n",
    "altezza_antapiccola=STRUCT(NN(2)([verticali_antapiccola,T(1)(0.35)]))\n",
    "anta_piccola=STRUCT([orizzontali_antapiccola,altezza_antapiccola])\n",
    "ante_piccole=STRUCT(NN(2)([anta_piccola,T(1)(0.4)]))\n",
    "pomello1_piccolo=R([3,2])(PI/2)(CYLINDER([0.0075,0.02])(30))\n",
    "pomello_piccolo=T([1,2,3])([0.36,-0.06,2.205])(pomello1_piccolo)\n",
    "pomelli_piccoli=STRUCT(NN(2)([pomello_piccolo,T(1)(0.04)]))\n",
    "ante_piccole_complete=STRUCT([ante_piccole,COLOR([0.56,0.44,0.30])(pomelli_piccoli)])\n",
    "\n",
    "libreria_con_ante=STRUCT([libreria1,ante_complete,ante_piccole_complete])  #assemblo le librerie laterali con le ante\n",
    "\n",
    "small_base=T(1)(0.8)(CUBOID([0.36,0.26,0.07]))\n",
    "side_wall=T([1,2])([0.78,-0.02])(CUBOID([0.02,0.28,2.37]))\n",
    "side_walls=STRUCT(NN(2)([side_wall,T(1)(0.38)]))\n",
    "shelf=T([1,2,3])([0.8,-0.02,0.07])(CUBOID([0.36,0.28,0.02]))\n",
    "shelfs=STRUCT(NN(8)([shelf,T(3)(0.3257)]))\n",
    "wall_behind=T([1,2,3])([0.78,0.26,0.07])(CUBOID([0.4,0.02,2.3]))\n",
    "bookcase=STRUCT([small_base,side_walls,shelfs,wall_behind]) #creo la libreria centrale\n",
    "\n",
    "librerie_chiuse=STRUCT(NN(2)([libreria_con_ante,T(1)(1.2)]))\n",
    "libreria=STRUCT([COLOR([1.01,0.67,0.33])(librerie_chiuse),COLOR([1.01,0.67,0.33])(bookcase)]) #unisco le 3 parti e creo la libreria\n",
    "\n",
    "\n"
   ]
  },
  {
   "cell_type": "code",
   "execution_count": 9,
   "metadata": {},
   "outputs": [
    {
     "data": {
      "text/plain": [
       "<pyplasm.xgepy.Hpc; proxy of <Swig Object of type 'std::shared_ptr< Hpc > *' at 0x181344c780> >"
      ]
     },
     "execution_count": 9,
     "metadata": {},
     "output_type": "execute_result"
    }
   ],
   "source": [
    "VIEW(libreria_con_ante)"
   ]
  },
  {
   "cell_type": "markdown",
   "metadata": {},
   "source": [
    "![\"Workshop2-1\"](Workshop2-1.png)"
   ]
  },
  {
   "cell_type": "code",
   "execution_count": 14,
   "metadata": {},
   "outputs": [
    {
     "data": {
      "text/plain": [
       "<pyplasm.xgepy.Hpc; proxy of <Swig Object of type 'std::shared_ptr< Hpc > *' at 0x181344c810> >"
      ]
     },
     "execution_count": 14,
     "metadata": {},
     "output_type": "execute_result"
    }
   ],
   "source": [
    "VIEW(bookcase)"
   ]
  },
  {
   "cell_type": "markdown",
   "metadata": {},
   "source": [
    "![\"Workshop2-2\"](Workshop2-2.png)"
   ]
  },
  {
   "cell_type": "code",
   "execution_count": 3,
   "metadata": {},
   "outputs": [
    {
     "data": {
      "text/plain": [
       "<pyplasm.xgepy.Hpc; proxy of <Swig Object of type 'std::shared_ptr< Hpc > *' at 0x181d9cd390> >"
      ]
     },
     "execution_count": 3,
     "metadata": {},
     "output_type": "execute_result"
    }
   ],
   "source": [
    "VIEW(libreria)"
   ]
  },
  {
   "cell_type": "markdown",
   "metadata": {
    "collapsed": true
   },
   "source": [
    "![\"Workshop2-3\"](Workshop2-3.png)"
   ]
  },
  {
   "cell_type": "code",
   "execution_count": null,
   "metadata": {
    "collapsed": true
   },
   "outputs": [],
   "source": []
  }
 ],
 "metadata": {
  "kernelspec": {
   "display_name": "Python 2",
   "language": "python",
   "name": "python2"
  },
  "language_info": {
   "codemirror_mode": {
    "name": "ipython",
    "version": 2
   },
   "file_extension": ".py",
   "mimetype": "text/x-python",
   "name": "python",
   "nbconvert_exporter": "python",
   "pygments_lexer": "ipython2",
   "version": "2.7.13"
  }
 },
 "nbformat": 4,
 "nbformat_minor": 2
}
